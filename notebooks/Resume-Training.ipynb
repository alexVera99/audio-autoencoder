{
 "cells": [
  {
   "cell_type": "code",
   "execution_count": 1,
   "metadata": {},
   "outputs": [],
   "source": [
    "import pathlib\n",
    "base_path = pathlib.Path(\"../\")"
   ]
  },
  {
   "cell_type": "code",
   "execution_count": 2,
   "metadata": {},
   "outputs": [
    {
     "name": "stderr",
     "output_type": "stream",
     "text": [
      "[   INFO   ] MusicExtractorSVM: no classifier models were configured by default\n"
     ]
    }
   ],
   "source": [
    "import torch\n",
    "from torchvision import transforms\n",
    "import numpy as np\n",
    "import json\n",
    "import sys\n",
    "sys.path.append(str(base_path))\n",
    "from src.models.v1.model import AudioAutoEncoder\n",
    "from src.models.v1.training import train_autoencoder\n",
    "from src.dataloaders.v1.dataloader import AudioDB\n",
    "from src.utils.utils import plot_loss_function"
   ]
  },
  {
   "cell_type": "code",
   "execution_count": 3,
   "metadata": {},
   "outputs": [],
   "source": [
    "\n",
    "data_path = base_path / 'audio/'\n",
    "results_path = base_path / 'results/'\n",
    "models_path = base_path / 'models/'"
   ]
  },
  {
   "cell_type": "code",
   "execution_count": 4,
   "metadata": {},
   "outputs": [],
   "source": [
    "# Checking if gpu available\n",
    "device = torch.device('cuda:0' if torch.cuda.is_available() else 'cpu')"
   ]
  },
  {
   "cell_type": "markdown",
   "metadata": {},
   "source": [
    "# Define model to resume training"
   ]
  },
  {
   "cell_type": "code",
   "execution_count": 5,
   "metadata": {},
   "outputs": [],
   "source": [
    "# CHANGE ME!!!!!!!!!!!!!!!!!!!!!!!!!!!!!!!!!!!!!!!\n",
    "model_timestamp = \"09-12-2022_21-53\"\n",
    "epoch = 15\n",
    "\n",
    "# DON'T CHANGE!!!!!!!!!!!!!!!!!!!!!!!!!!!!!!!!!!!!\n",
    "model_name = f\"{model_timestamp}/model\"\n",
    "model_checkpoint_basename = models_path / f\"{model_name}__epoch_{epoch}\"\n",
    "model_checkpoint_epoch = pathlib.Path(f\"{model_checkpoint_basename}.ckpt\")\n",
    "model_loss_filename = pathlib.Path(f\"{model_checkpoint_basename}_loss.npy\")\n",
    "model_hyperparams_filename = models_path / model_timestamp / \"hyperparams.json\"\n",
    "\n",
    "with open(model_hyperparams_filename, \"r\") as f:\n",
    "    model_hyperparams_dict = json.load(f)\n",
    "autoencoder = AudioAutoEncoder(2, 32, 400)"
   ]
  },
  {
   "cell_type": "code",
   "execution_count": 6,
   "metadata": {},
   "outputs": [],
   "source": [
    "assert model_checkpoint_epoch.exists()\n",
    "assert model_loss_filename.exists()\n",
    "assert model_hyperparams_filename.exists()"
   ]
  },
  {
   "cell_type": "markdown",
   "metadata": {},
   "source": [
    "## Load model"
   ]
  },
  {
   "cell_type": "code",
   "execution_count": 7,
   "metadata": {},
   "outputs": [],
   "source": [
    "trained_model_dict = torch.load(model_checkpoint_epoch)\n",
    "\n",
    "autoencoder.load_state_dict(trained_model_dict)\n",
    "autoencoder = autoencoder.to(device)"
   ]
  },
  {
   "cell_type": "code",
   "execution_count": 8,
   "metadata": {},
   "outputs": [
    {
     "data": {
      "text/plain": [
       "{'learning_rate': 0.001,\n",
       " 'weight_decay': 1e-05,\n",
       " 'optimizer': \"<class 'torch.optim.adam.Adam'>\",\n",
       " 'lambda': 0.5,\n",
       " 'target_num_epochs': 30}"
      ]
     },
     "execution_count": 8,
     "metadata": {},
     "output_type": "execute_result"
    }
   ],
   "source": [
    "model_hyperparams_dict"
   ]
  },
  {
   "cell_type": "code",
   "execution_count": 9,
   "metadata": {},
   "outputs": [],
   "source": [
    "#Initialize indepdent optimizer for both networks\n",
    "learning_rate = model_hyperparams_dict[\"learning_rate\"]\n",
    "weight_decay = model_hyperparams_dict[\"weight_decay\"]\n",
    "optimizer = torch.optim.Adam(autoencoder.parameters(),\n",
    "                             lr=learning_rate, \n",
    "                             weight_decay=weight_decay)\n",
    "lbmda = model_hyperparams_dict[\"lambda\"]\n",
    "\n",
    "num_epochs = model_hyperparams_dict[\"target_num_epochs\"]"
   ]
  },
  {
   "cell_type": "markdown",
   "metadata": {},
   "source": [
    "## Load loss history"
   ]
  },
  {
   "cell_type": "code",
   "execution_count": 10,
   "metadata": {},
   "outputs": [
    {
     "data": {
      "image/png": "[encoded data removed]",
      "text/plain": [
       "<Figure size 640x480 with 1 Axes>"
      ]
     },
     "metadata": {},
     "output_type": "display_data"
    }
   ],
   "source": [
    "losses_list = list(np.load(model_loss_filename))\n",
    "\n",
    "plot_loss_function(losses_list, \"Training Loss\")"
   ]
  },
  {
   "cell_type": "markdown",
   "metadata": {},
   "source": [
    "# Dataloader"
   ]
  },
  {
   "cell_type": "code",
   "execution_count": 11,
   "metadata": {},
   "outputs": [],
   "source": [
    "# DataLoader\n",
    "tr = transforms.Compose([\n",
    "        transforms.ToTensor(), \n",
    "        ])\n",
    "\n",
    "data_filename = data_path / \"train_data.csv\"\n",
    "\n",
    "batch_size = 60\n",
    "train_audios_db = AudioDB(data_filename,\n",
    "                   data_path,\n",
    "                   tr)\n",
    "\n",
    "num_workers = 8\n",
    "\n",
    "train_loader = torch.utils.data.DataLoader(dataset=train_audios_db,\n",
    "                                           batch_size=batch_size, \n",
    "                                           shuffle=True,\n",
    "                                           num_workers = num_workers)"
   ]
  },
  {
   "cell_type": "markdown",
   "metadata": {},
   "source": [
    "# Resume training"
   ]
  },
  {
   "cell_type": "code",
   "execution_count": null,
   "metadata": {},
   "outputs": [],
   "source": [
    "model_filename, model_loss_filename, losses_list = train_autoencoder(autoencoder, \n",
    "                                                                     train_loader, \n",
    "                                                                     optimizer,\n",
    "                                                                     model_name, \n",
    "                                                                     models_path, \n",
    "                                                                     num_epochs,\n",
    "                                                                     device, \n",
    "                                                                     lbmda,\n",
    "                                                                     losses_list,\n",
    "                                                                     epoch_start=epoch+1)"
   ]
  },
  {
   "cell_type": "markdown",
   "metadata": {},
   "source": [
    "# Plot loss after training"
   ]
  },
  {
   "cell_type": "code",
   "execution_count": null,
   "metadata": {},
   "outputs": [],
   "source": [
    "plot_loss_function(losses_list, \"Training Loss\")"
   ]
  },
  {
   "cell_type": "code",
   "execution_count": null,
   "metadata": {},
   "outputs": [],
   "source": []
  }
 ],
 "metadata": {
  "kernelspec": {
   "display_name": "Python 3.10.6 ('venv': venv)",
   "language": "python",
   "name": "python3"
  },
  "language_info": {
   "codemirror_mode": {
    "name": "ipython",
    "version": 3
   },
   "file_extension": ".py",
   "mimetype": "text/x-python",
   "name": "python",
   "nbconvert_exporter": "python",
   "pygments_lexer": "ipython3",
   "version": "3.10.6"
  },
  "orig_nbformat": 4,
  "vscode": {
   "interpreter": {
    "hash": "946ce736500fbf70ae64d1de6c2f15a0e6b3373a3abad7c5a0cd881386ea12f2"
   }
  }
 },
 "nbformat": 4,
 "nbformat_minor": 2
}
