{
 "cells": [
  {
   "cell_type": "code",
   "execution_count": 1,
   "metadata": {},
   "outputs": [],
   "source": [
    "import pathlib\n",
    "base_path = pathlib.Path(\"../\")"
   ]
  },
  {
   "cell_type": "code",
   "execution_count": 2,
   "metadata": {},
   "outputs": [
    {
     "name": "stderr",
     "output_type": "stream",
     "text": [
      "[   INFO   ] MusicExtractorSVM: no classifier models were configured by default\n"
     ]
    }
   ],
   "source": [
    "import torch\n",
    "from torchvision import transforms\n",
    "import numpy as np\n",
    "import matplotlib.pyplot as plt\n",
    "import json\n",
    "import os\n",
    "import datetime\n",
    "import sys\n",
    "sys.path.append(str(base_path))\n",
    "from src.models.v1.model import AudioAutoEncoder\n",
    "from src.models.v1.training import train_autoencoder\n",
    "from src.dataloaders.v1.dataloader import AudioDB\n",
    "from src.utils.utils import plot_loss_function"
   ]
  },
  {
   "cell_type": "code",
   "execution_count": 3,
   "metadata": {},
   "outputs": [],
   "source": [
    "data_path = base_path / 'audio/'\n",
    "results_path = base_path / 'results/'\n",
    "models_path = base_path / 'models/'"
   ]
  },
  {
   "cell_type": "code",
   "execution_count": 4,
   "metadata": {},
   "outputs": [],
   "source": [
    "# Checking if gpu available\n",
    "device = torch.device('cuda:0' if torch.cuda.is_available() else 'cpu')"
   ]
  },
  {
   "cell_type": "markdown",
   "metadata": {},
   "source": [
    "# Model Set up"
   ]
  },
  {
   "cell_type": "code",
   "execution_count": 5,
   "metadata": {},
   "outputs": [],
   "source": [
    "autoencoder = AudioAutoEncoder(2, 32, 400)\n",
    "\n",
    "#Initialize indepdent optimizer for both networks\n",
    "learning_rate = .001\n",
    "weight_decay = 1e-5\n",
    "optimizer = torch.optim.Adam(autoencoder.parameters(),\n",
    "                             lr=learning_rate, \n",
    "                             weight_decay=weight_decay)\n",
    "lbmda = 0.5\n",
    "\n",
    "num_epochs = 30"
   ]
  },
  {
   "cell_type": "code",
   "execution_count": 6,
   "metadata": {},
   "outputs": [
    {
     "name": "stdout",
     "output_type": "stream",
     "text": [
      "09-12-2022_21-53/model\n"
     ]
    }
   ],
   "source": [
    "model_timestamp = datetime.datetime.today().strftime(\"%d-%m-%Y_%H-%M\")\n",
    "os.mkdir(models_path / model_timestamp)\n",
    "model_name = f\"{model_timestamp}/model\"\n",
    "model_hyperparams_filename = models_path / model_timestamp / \"hyperparams.json\"\n",
    "\n",
    "print(model_name)"
   ]
  },
  {
   "cell_type": "code",
   "execution_count": 7,
   "metadata": {},
   "outputs": [],
   "source": [
    "assert pathlib.Path(models_path / model_timestamp).exists()"
   ]
  },
  {
   "cell_type": "code",
   "execution_count": 8,
   "metadata": {},
   "outputs": [],
   "source": [
    "# Save hyperparms\n",
    "params_dict = {\n",
    "    \"learning_rate\": learning_rate,\n",
    "    \"weight_decay\": weight_decay,\n",
    "    \"optimizer\": str(optimizer.__class__),\n",
    "    \"lambda\": lbmda,\n",
    "    \"target_num_epochs\": num_epochs\n",
    "}\n",
    "\n",
    "with open(model_hyperparams_filename, \"w\") as f:\n",
    "    json.dump(params_dict, f, indent=4)"
   ]
  },
  {
   "cell_type": "markdown",
   "metadata": {},
   "source": [
    "# DataLoader"
   ]
  },
  {
   "cell_type": "code",
   "execution_count": 9,
   "metadata": {},
   "outputs": [],
   "source": [
    "# DataLoader\n",
    "tr = transforms.Compose([\n",
    "        transforms.ToTensor(), \n",
    "        ])\n",
    "\n",
    "data_filename = data_path / \"train_data.csv\"\n",
    "\n",
    "batch_size = 60\n",
    "train_audios_db = AudioDB(data_filename,\n",
    "                   data_path,\n",
    "                   tr)\n",
    "\n",
    "num_workers = 8\n",
    "\n",
    "train_loader = torch.utils.data.DataLoader(dataset=train_audios_db,\n",
    "                                           batch_size=batch_size, \n",
    "                                           shuffle=True,\n",
    "                                           num_workers = num_workers)"
   ]
  },
  {
   "cell_type": "markdown",
   "metadata": {},
   "source": [
    "# Training"
   ]
  },
  {
   "cell_type": "code",
   "execution_count": null,
   "metadata": {},
   "outputs": [],
   "source": [
    "model_filename, model_loss_filename, losses_list = train_autoencoder(autoencoder, \n",
    "                                                                     train_loader, \n",
    "                                                                     optimizer,\n",
    "                                                                     model_name, \n",
    "                                                                     models_path, \n",
    "                                                                     num_epochs,\n",
    "                                                                     device, \n",
    "                                                                     lbmda)"
   ]
  },
  {
   "cell_type": "markdown",
   "metadata": {},
   "source": [
    "# Plot training loss"
   ]
  },
  {
   "cell_type": "code",
   "execution_count": null,
   "metadata": {},
   "outputs": [],
   "source": [
    "plot_loss_function(losses_list, \"Training Loss\")"
   ]
  },
  {
   "cell_type": "code",
   "execution_count": null,
   "metadata": {},
   "outputs": [],
   "source": []
  }
 ],
 "metadata": {
  "kernelspec": {
   "display_name": "Python 3.10.6 ('venv': venv)",
   "language": "python",
   "name": "python3"
  },
  "language_info": {
   "codemirror_mode": {
    "name": "ipython",
    "version": 3
   },
   "file_extension": ".py",
   "mimetype": "text/x-python",
   "name": "python",
   "nbconvert_exporter": "python",
   "pygments_lexer": "ipython3",
   "version": "3.10.6"
  },
  "orig_nbformat": 4,
  "vscode": {
   "interpreter": {
    "hash": "3588a26497647f26befe527e3a98cd9b685dcf930f4d67eec4c693f0592204db"
   }
  }
 },
 "nbformat": 4,
 "nbformat_minor": 2
}
